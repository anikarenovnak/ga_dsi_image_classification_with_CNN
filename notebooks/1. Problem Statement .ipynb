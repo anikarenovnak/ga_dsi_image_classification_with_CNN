{
 "cells": [
  {
   "cell_type": "markdown",
   "metadata": {},
   "source": [
    "# Motivation \n",
    "\n",
    "Image classification is one among many AI/machine learning problems that fall within the larger field of Computer Vision the purpose of wich is to classify images into their corresponding categories. The purpse of computer vision is to develop algorithms that can recognize and extract signal from image or video data much like humans can. So why did I choose to do this project on Image classification?\n",
    "\n",
    "![computer vision](../images/computer_vision.jpg)\n",
    "\n",
    "\n",
    "### 1.  A Door Into the Black Box of Deep Learning\n",
    "\n",
    "Image classification problems often use deep neural networks. Due to the nature of the data as images, it becomes relatively easy for us to understand how a neural network learns simply by looking at the output of the hiden layers and visualizing that output via its reconstruction back into images. In other words, we can literally look at and see the output of hidden layers as pictures. This is an incredibly useful thing in advancing research on deep learning models.\n",
    "\n",
    "\n",
    "### 2. Transferrability of Lessons Learned \n",
    "\n",
    "Image classification is one of the simpler problems within computer vision, therefore it is relatively easy to implement. Despite how easy it is to build image classification models, lessons learned from research in image classification very nicely transfer and apply other fields of AI research which are a lot more complex (voice recognition, video recognition, etc...). \n",
    "\n",
    "### 3. Useful Applications of Computer Vision\n",
    "\n",
    "Computer vision models are used in a variety of AI based products we use in our everyday lives. Some examples include \n",
    "\n",
    "- Facial recognition on your iphone\n",
    "- Facebook's friend suggestion algorithm \n",
    "- Google's translate app\n",
    "- X-ray image analyses within the medical field \n",
    "\n",
    "Applications of computer vision are also used in research and development of self-driving cars, especially in their ability to recognize and diferntiate objecst such as humans or other cares on the road. \n",
    "\n",
    "While these are just a few examples that most of us can relate to or get excited by, the applications of computer vision are huge also within the manufacturing industry, agriculture and other fields that extend their impact beyond the local and a global scale. \n",
    "\n",
    "This [article](https://www.forbes.com/sites/bernardmarr/2019/04/08/7-amazing-examples-of-computer-and-machine-vision-in-practice/#707d89bf1018) describes some of these appications in a bit more depth. \n",
    "\n",
    "I think that the applications of computer vision are incredibly exciting and are a great class of algorithms that are actively helping advance research in AI based systems in general. \n",
    "\n",
    "# A Research/Engineering Problem \n",
    "\n",
    "The combination of the above mentioned prompts makes image classification a great research/engineering problem because \n",
    "<br/>\n",
    "1. it is reltively easy to implement but also\n",
    "<br/>\n",
    "2. allows us to generalize lessons learned to more complex AI research problems\n",
    "<br/>\n",
    "3. enables us to look inside the black box of neural networks and understand how the model is learning or why it's failing to learn the way we expect it to\n",
    "<br/>\n",
    "4. has incredibly useful and exciting applications to not only our everyday lives but also in cutting edge AI research problems, as well as problems solutions to whcih carry global impact.  \n",
    "<br/>\n",
    "\n",
    "![ai_research](../images/ai_research.png)"
   ]
  },
  {
   "cell_type": "markdown",
   "metadata": {},
   "source": [
    "# Problem Statement\n",
    "\n",
    "### I will build an image classification model which uses a convolutional neural network to classify images into their respective 5 categories. The purpose of this project is to use this model to demonstrate how some approaches can be applied to help us understand what goes on inside the black box of a neural network. Such understanding can provide valuable insights into\n",
    "\n",
    "### 1. the limitations of the model in general \n",
    "### 2. where and why the model may fail to correctly predict classes of images"
   ]
  },
  {
   "cell_type": "markdown",
   "metadata": {},
   "source": [
    "# Why Is This Problem Statement Important or Worthwhile? "
   ]
  },
  {
   "cell_type": "markdown",
   "metadata": {},
   "source": [
    "This project is not a prediction optimized data science problem, but is rather aimed at the use of data science in a way that aids the advancement of deep learning research to improve AI product development. \n",
    "\n",
    "Imagine working for Amazon's Alexa group, or Apple's Siri team, or even Google's deep dreaming project. All of these projets invovle a lot of research in AI product development. Developing an AI based product however requires a deep undestanding of the underlying AI models that are the hearbeat of these products so that one can know and anticipate where the product may fail or underperform. Such understanding enables the developers to make appropriate changes to the product to account for failures and improve the product for their users. A better Alexa which has improved understanding of its user will inevitably make the user happy. Higher user satisfaction based on improved product quality will inevitably translate into increased business value and profit. But even more excitingly, developing good quality AI products goes hand in hand with advancing reasearch in AI technologies. Therefore the problem statement I have chosen is a very useful twist of data science that not only brings business value to the company, but also allows the company to become a leader in advancing AI research while developing their products. "
   ]
  },
  {
   "cell_type": "markdown",
   "metadata": {},
   "source": [
    "# Where Does The Data Come From ?"
   ]
  },
  {
   "cell_type": "markdown",
   "metadata": {},
   "source": [
    "The data I use for this project comes from Google's **Quick! Draw!** AI experiment - an online game which prompts the users to draw an item in 20 seconds. The game uses a neural network behind the scenes to classify the user's doodle and learns from the users input by being rewarded if it guesses the category of the doodle correctly while getting punished if it guesses it incorrectly. "
   ]
  },
  {
   "cell_type": "markdown",
   "metadata": {},
   "source": [
    "The below video is a quick demonstration of how the online game works but you can try it on your own [here!](https://quickdraw.withgoogle.com/) "
   ]
  },
  {
   "cell_type": "code",
   "execution_count": 1,
   "metadata": {},
   "outputs": [
    {
     "data": {
      "text/html": [
       "<video src=\"../images/quick_draw_demo.mov\" controls  width=\"900\"  height=\"500\">\n",
       "      Your browser does not support the <code>video</code> element.\n",
       "    </video>"
      ],
      "text/plain": [
       "<IPython.core.display.Video object>"
      ]
     },
     "execution_count": 1,
     "metadata": {},
     "output_type": "execute_result"
    }
   ],
   "source": [
    "from IPython.display import Video\n",
    "Video(\"../images/quick_draw_demo.mov\", width = 900, height = 500)"
   ]
  }
 ],
 "metadata": {
  "kernelspec": {
   "display_name": "Python 3",
   "language": "python",
   "name": "python3"
  },
  "language_info": {
   "codemirror_mode": {
    "name": "ipython",
    "version": 3
   },
   "file_extension": ".py",
   "mimetype": "text/x-python",
   "name": "python",
   "nbconvert_exporter": "python",
   "pygments_lexer": "ipython3",
   "version": "3.7.1"
  }
 },
 "nbformat": 4,
 "nbformat_minor": 2
}
