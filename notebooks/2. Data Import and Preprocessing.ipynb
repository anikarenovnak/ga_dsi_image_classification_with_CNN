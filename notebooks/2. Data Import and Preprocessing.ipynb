{
 "cells": [
  {
   "cell_type": "markdown",
   "metadata": {},
   "source": [
    "# Data Import and Preprocessing \n",
    "\n",
    "This notebook covers how the data was imported and reshaped so that it can be later processed by keras and sklearn. "
   ]
  },
  {
   "cell_type": "code",
   "execution_count": 113,
   "metadata": {},
   "outputs": [],
   "source": [
    "# import all the libraries we will be using in this notebook \n",
    "\n",
    "import os\n",
    "import pandas as pd\n",
    "import numpy as np\n",
    "import matplotlib.pyplot as plt\n",
    "import PIL\n",
    "from numpy import asarray\n",
    "import ndjson\n",
    "from sklearn.model_selection import train_test_split\n",
    "from keras import regularizers\n",
    "from sklearn.metrics import accuracy_score\n",
    "from keras import backend as K\n",
    "import pydot\n",
    "import pickle\n",
    "\n",
    "#### Import libraries and modules\n",
    "import numpy as np\n",
    "import matplotlib.pyplot as plt\n",
    "\n",
    "# For reproducibility\n",
    "np.random.seed(42)\n",
    "\n",
    "\n",
    "%matplotlib inline\n",
    "import glob\n",
    "import matplotlib\n",
    "from matplotlib import pyplot as plt\n",
    "import matplotlib.image as mpimg\n",
    "import numpy as np\n",
    "import imageio as im\n",
    "\n",
    "%matplotlib inline"
   ]
  },
  {
   "cell_type": "markdown",
   "metadata": {},
   "source": [
    "![quick_draw](../images/quick_draw.png)"
   ]
  },
  {
   "cell_type": "markdown",
   "metadata": {},
   "source": [
    "# About the Data\n",
    "\n",
    "The data comes from Google Cloud's Quick! Draw! doodle dataset. Each data file has .ndjason extension and contains \n",
    "~12000 doodle images of one category. There are a total of over 300 categories in the dataset. \n",
    "![google_cloud](../images/google_cloud.png)"
   ]
  },
  {
   "cell_type": "markdown",
   "metadata": {},
   "source": [
    "A typical doodle image looks like this: \n",
    "\n",
    "![cat_doodle](../images/cat_doodle.png)\n",
    "    \n",
    "    \n",
    "Note the different colors on the image. When I demo-ed the Qucik! Draw! game in a video in notebook **1. Problem Statement**, each drawing was black and white. However here we see mutlitple colors. This is because the Quick! Draw! website saves time data in addition to the images you draw. Each stroke on the image is color coded to correspoind to consequtive time-steps at which the stroke was drawn. I will not be using time data for this project. \n",
    "\n",
    "The data for a full doodle image is broken down into smaller stroke-images corresponding to timesteps. So in order to get the complete doodle image, we need to implement a for loop that will put all the stroke-images together into one plot. The function below achieves this task in addition to a few other data preprocessing subtasks. \n",
    "    "
   ]
  },
  {
   "cell_type": "markdown",
   "metadata": {},
   "source": [
    "# Import And Transform Images "
   ]
  },
  {
   "cell_type": "code",
   "execution_count": 96,
   "metadata": {},
   "outputs": [],
   "source": [
    "# This function imports the data, preprocesses it and transforms it into keras-friendly shape as well as saves each image as a .png file into a local directory\n",
    "\n",
    "\n",
    "def img_import_transform(raw_data, path, label):\n",
    "    \n",
    "    # load from file-like objects\n",
    "    with open(raw_data) as f:\n",
    "        data = ndjson.load(f)\n",
    "    \n",
    "    drawings = data[9]['drawing']\n",
    "    \n",
    "    # reconstruct the doodles from stroke-images into a full plt plot-image \n",
    "    for drawing in drawings:\n",
    "        plt.plot(drawing[0], drawing[1])\n",
    "    \n",
    "    # save the plt plots for each doodle as an image in .png format in a local folder \n",
    "    images = []\n",
    "    for i in range(1,5001):\n",
    "        image = data[i]['drawing']\n",
    "        images.append(image)\n",
    "    count = 0\n",
    "    for image in images:\n",
    "        count += 1\n",
    "        for drawing in image:\n",
    "            plt.plot(drawing[0], drawing[1], c = 'k')\n",
    "            plt.axis('off')    \n",
    "        plt.savefig(path+str(count)+'_'+data[0]['word']+'.png')\n",
    "        plt.close()\n",
    "    \n",
    "    lst = []\n",
    "    \n",
    "    \n",
    "    # use the Pillow library to transform the images \n",
    "    # by turning them to greyscale and resizing them into a 100 by 100 shape\n",
    "    for i in os.listdir(path):\n",
    "    # load the image\n",
    "            image = Image.open(path+str(i))\n",
    "            #img_resized = image.resize((100,100))\n",
    "            image.thumbnail((100,100))\n",
    "            grey_scale = image.convert(mode = 'L')\n",
    "            pic = grey_scale.transpose(Image.FLIP_TOP_BOTTOM)\n",
    "            dat = asarray(pic)\n",
    "            lst.append(dat)\n",
    "    \n",
    "    # create a dataset with all images data \n",
    "    data = np.stack(lst, axis = 0)\n",
    "    data = data.astype('float32')\n",
    "    # standardize the data \n",
    "    data /= 255.\n",
    "    data_label = np.full((5000,), label)\n",
    "    \n",
    "    return pic, data, data_label\n"
   ]
  },
  {
   "cell_type": "markdown",
   "metadata": {},
   "source": [
    "Each full doodle image originally had the shape (288, 432, 4). This size is too large therefore I have resized each image into (100, 100, 1) shape. "
   ]
  },
  {
   "cell_type": "markdown",
   "metadata": {},
   "source": [
    "There are 5 categories of picures I want my model to classify: cats, alarm clocks, airplanes, houses and trees. The cats and alarm clocks often look very similar so I wanted to include these classes because I assume that the model willbe more likely to make errorneous classifications on these. The rest of the doodle categories I judged to be distinct enough that I assume the model will classify correctly pretty easily. Thus, given the 5 categories of images, **this project is a multiclass classification problem with 5 classes**. These are some examples of what a doodle image looks like from each category:"
   ]
  },
  {
   "cell_type": "markdown",
   "metadata": {},
   "source": [
    "![classes](../images/classes.png)"
   ]
  },
  {
   "cell_type": "code",
   "execution_count": 97,
   "metadata": {},
   "outputs": [],
   "source": [
    "# set the paths of directories from which data is imported and into which images are saved\n",
    "\n",
    "cat_raw = './data/raw_data/full_simplified_cat.ndjson'\n",
    "cat_path = './data/images_data/cat/'\n",
    "\n",
    "tree_raw = './data/raw_data/full_simplified_tree.ndjson'\n",
    "tree_path = './data/images_data/tree/'\n",
    "\n",
    "house_raw = './data/raw_data/full_simplified_house.ndjson'\n",
    "house_path = './data/images_data/house/'\n",
    "\n",
    "airplane_raw = './data/raw_data/full_simplified_airplane.ndjson'\n",
    "airplane_path = './data/images_data/airplane/'\n",
    "\n",
    "clock_raw = './data/raw_data/full_simplified_alarm clock.ndjson'\n",
    "clock_path = './data/images_data/clock/'"
   ]
  },
  {
   "cell_type": "code",
   "execution_count": null,
   "metadata": {},
   "outputs": [],
   "source": []
  },
  {
   "cell_type": "code",
   "execution_count": 98,
   "metadata": {},
   "outputs": [
    {
     "name": "stdout",
     "output_type": "stream",
     "text": [
      "(5000, 66, 100)\n",
      "(5000,)\n"
     ]
    },
    {
     "data": {
      "image/png": "[encoded data removed]",
      "text/plain": [
       "<PIL.Image.Image image mode=L size=100x66 at 0x1B53670898>"
      ]
     },
     "execution_count": 98,
     "metadata": {},
     "output_type": "execute_result"
    }
   ],
   "source": [
    "pic, cats_data, cats_label = img_import_transform(cat_raw, cat_path, label = 0)\n",
    "print(cats_data.shape)\n",
    "print(cats_label.shape)\n",
    "cats_label[0:3]\n",
    "pic"
   ]
  },
  {
   "cell_type": "code",
   "execution_count": 26,
   "metadata": {},
   "outputs": [
    {
     "data": {
      "text/plain": [
       "(100, 100, 100)"
      ]
     },
     "execution_count": 26,
     "metadata": {},
     "output_type": "execute_result"
    }
   ],
   "source": [
    "# cats_data = cats_data[0:100]\n",
    "# cats_data.shape"
   ]
  },
  {
   "cell_type": "code",
   "execution_count": 99,
   "metadata": {},
   "outputs": [
    {
     "name": "stdout",
     "output_type": "stream",
     "text": [
      "(5000, 66, 100)\n",
      "(5000,)\n"
     ]
    },
    {
     "data": {
      "image/png": "[encoded data removed]",
      "text/plain": [
       "<PIL.Image.Image image mode=L size=100x66 at 0x1B9235FA90>"
      ]
     },
     "execution_count": 99,
     "metadata": {},
     "output_type": "execute_result"
    }
   ],
   "source": [
    "pic, clock_data, clock_label = img_import_transform(clock_raw,clock_path, label = 1)\n",
    "print(clock_data.shape)\n",
    "print(clock_label.shape)\n",
    "clock_label[0:3]\n",
    "pic"
   ]
  },
  {
   "cell_type": "code",
   "execution_count": 30,
   "metadata": {},
   "outputs": [
    {
     "data": {
      "text/plain": [
       "(100, 66, 100)"
      ]
     },
     "execution_count": 30,
     "metadata": {},
     "output_type": "execute_result"
    }
   ],
   "source": [
    "# clock_data = clock_data[0:100]\n",
    "# clock_data.shape"
   ]
  },
  {
   "cell_type": "code",
   "execution_count": 100,
   "metadata": {},
   "outputs": [
    {
     "name": "stdout",
     "output_type": "stream",
     "text": [
      "(5000, 66, 100)\n",
      "(5000,)\n"
     ]
    },
    {
     "data": {
      "image/png": "[encoded data removed]",
      "text/plain": [
       "<PIL.Image.Image image mode=L size=100x66 at 0x1B66B21710>"
      ]
     },
     "execution_count": 100,
     "metadata": {},
     "output_type": "execute_result"
    }
   ],
   "source": [
    "pic, airplane_data, airplane_label = img_import_transform(airplane_raw, airplane_path, label = 2)\n",
    "print(airplane_data.shape)\n",
    "print(airplane_label.shape)\n",
    "airplane_label[0:3]\n",
    "pic"
   ]
  },
  {
   "cell_type": "code",
   "execution_count": 29,
   "metadata": {},
   "outputs": [
    {
     "data": {
      "text/plain": [
       "(100, 100, 100)"
      ]
     },
     "execution_count": 29,
     "metadata": {},
     "output_type": "execute_result"
    }
   ],
   "source": [
    "# airplane_data = airplane_data[0:100]\n",
    "# airplane_data.shape"
   ]
  },
  {
   "cell_type": "code",
   "execution_count": 101,
   "metadata": {},
   "outputs": [
    {
     "name": "stdout",
     "output_type": "stream",
     "text": [
      "(5000, 66, 100)\n",
      "(5000,)\n"
     ]
    },
    {
     "data": {
      "image/png": "[encoded data removed]",
      "text/plain": [
       "<PIL.Image.Image image mode=L size=100x66 at 0x1B30EDE550>"
      ]
     },
     "execution_count": 101,
     "metadata": {},
     "output_type": "execute_result"
    }
   ],
   "source": [
    "pic, house_data, house_label = img_import_transform(house_raw, house_path, label = 3)\n",
    "print(house_data.shape)\n",
    "print(house_label.shape)\n",
    "house_label[0:3]\n",
    "pic"
   ]
  },
  {
   "cell_type": "code",
   "execution_count": 31,
   "metadata": {},
   "outputs": [
    {
     "data": {
      "text/plain": [
       "(100, 100, 100)"
      ]
     },
     "execution_count": 31,
     "metadata": {},
     "output_type": "execute_result"
    }
   ],
   "source": [
    "# house_data = house_data[0:100]\n",
    "# house_data.shape"
   ]
  },
  {
   "cell_type": "code",
   "execution_count": 102,
   "metadata": {},
   "outputs": [
    {
     "name": "stdout",
     "output_type": "stream",
     "text": [
      "(5000, 66, 100)\n",
      "(5000,)\n"
     ]
    },
    {
     "data": {
      "image/png": "[encoded data removed]",
      "text/plain": [
       "<PIL.Image.Image image mode=L size=100x66 at 0x1B5B948E48>"
      ]
     },
     "execution_count": 102,
     "metadata": {},
     "output_type": "execute_result"
    }
   ],
   "source": [
    "pic, tree_data, tree_label = img_import_transform(tree_raw, tree_path, label = 4)\n",
    "print(tree_data.shape)\n",
    "print(tree_label.shape)\n",
    "tree_label[0:3]\n",
    "pic"
   ]
  },
  {
   "cell_type": "code",
   "execution_count": 33,
   "metadata": {},
   "outputs": [
    {
     "data": {
      "text/plain": [
       "(100, 100, 100)"
      ]
     },
     "execution_count": 33,
     "metadata": {},
     "output_type": "execute_result"
    }
   ],
   "source": [
    "# tree_data = tree_data[0:100]\n",
    "# tree_data.shape"
   ]
  },
  {
   "cell_type": "code",
   "execution_count": 103,
   "metadata": {},
   "outputs": [
    {
     "name": "stdout",
     "output_type": "stream",
     "text": [
      "(25000, 66, 100)\n",
      "(25000,)\n"
     ]
    }
   ],
   "source": [
    "X = asarray(list(cats_data)+list(clock_data)+list(airplane_data)+list(house_data)+list(tree_data))\n",
    "y = asarray(list(cats_label)+list(clock_label)+list(airplane_label)+list(house_label)+list(tree_label))\n",
    "print(X.shape)\n",
    "print(y.shape)"
   ]
  },
  {
   "cell_type": "code",
   "execution_count": 114,
   "metadata": {},
   "outputs": [],
   "source": [
    "### Load data into file\n",
    "with open(\"./data/processed_data/X.pkl\",\"wb\") as f:\n",
    "    pickle.dump(X,f)\n",
    "\n",
    "with open(\"./data/processed_data/y.pkl\",\"wb\") as f:\n",
    "    pickle.dump(y,f)"
   ]
  }
 ],
 "metadata": {
  "kernelspec": {
   "display_name": "Python 3",
   "language": "python",
   "name": "python3"
  },
  "language_info": {
   "codemirror_mode": {
    "name": "ipython",
    "version": 3
   },
   "file_extension": ".py",
   "mimetype": "text/x-python",
   "name": "python",
   "nbconvert_exporter": "python",
   "pygments_lexer": "ipython3",
   "version": "3.7.1"
  }
 },
 "nbformat": 4,
 "nbformat_minor": 2
}
