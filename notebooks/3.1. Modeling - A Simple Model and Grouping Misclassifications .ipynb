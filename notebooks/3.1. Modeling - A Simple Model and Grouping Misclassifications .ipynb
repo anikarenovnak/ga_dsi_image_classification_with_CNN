{
 "cells": [
  {
   "cell_type": "markdown",
   "metadata": {},
   "source": [
    "# Overview \n",
    "\n",
    "In this notebook I will build a simple neural network and will apply two methods which may be useful for helping us undersand where the model is expected to fail: \n",
    "1. Clustering misclassifications with an unsupervised learning method to determine if there are any distinct clusters of images that the model is systematically misclassifying\n",
    "2. Manually inspecting the images that were misclassified to determine whether such a method can be useful in grouping images based on some shared characteristic that confuses the neural netowrk"
   ]
  },
  {
   "cell_type": "code",
   "execution_count": 77,
   "metadata": {},
   "outputs": [],
   "source": [
    "# import packages\n",
    "\n",
    "import numpy as np\n",
    "import pandas as pd\n",
    "import pickle\n",
    "from sklearn.model_selection import train_test_split\n",
    "from keras.utils.vis_utils import plot_model\n",
    "from keras.utils import np_utils\n",
    "from sklearn.linear_model import LogisticRegression\n",
    "from sklearn.metrics import accuracy_score\n",
    "import matplotlib.pyplot as plt\n",
    "\n",
    "# For reproducibility\n",
    "np.random.seed(42)\n",
    "\n",
    "from keras.models import Sequential\n",
    "from keras.layers import Dense, Dropout, Activation, Flatten\n",
    "from keras.layers import Conv2D, MaxPooling2D\n",
    "from keras.callbacks import EarlyStopping\n",
    "from keras.utils import np_utils\n",
    "from keras.datasets import mnist\n",
    "from keras.callbacks import ModelCheckpoint\n",
    "from keras.utils.vis_utils import plot_model\n",
    "from keras import regularizers\n",
    "from keras import backend as K"
   ]
  },
  {
   "cell_type": "markdown",
   "metadata": {},
   "source": [
    "# 1. Data Import and Preprocessing "
   ]
  },
  {
   "cell_type": "code",
   "execution_count": 40,
   "metadata": {
    "scrolled": true
   },
   "outputs": [
    {
     "name": "stdout",
     "output_type": "stream",
     "text": [
      "(25000, 66, 100)\n",
      "(25000,)\n"
     ]
    }
   ],
   "source": [
    "\n",
    "###Extract from file\n",
    "with open(\"./data/processed_data/X.pkl\",\"rb\") as f:\n",
    "    X = pickle.load(f)\n",
    "    \n",
    "###Extract from file\n",
    "with open(\"./data/processed_data/y.pkl\",\"rb\") as f:\n",
    "    y = pickle.load(f)\n",
    "    \n",
    "print(X.shape)\n",
    "print(y.shape)"
   ]
  },
  {
   "cell_type": "markdown",
   "metadata": {},
   "source": [
    "## Train-test-split the data"
   ]
  },
  {
   "cell_type": "markdown",
   "metadata": {},
   "source": [
    "After the modeling, I will be looking specifically at misclassifications to understand where the model is failing. In order to do this, I will need to visually inspect the actual images that are being misclassified. Therefore, when doing the train test split, I will include an **indices** list which will serve as an index for all of the images that I can later use to find the actual images corresponding to misclassifications. "
   ]
  },
  {
   "cell_type": "code",
   "execution_count": 41,
   "metadata": {},
   "outputs": [],
   "source": [
    "# create an index corresponding to individual images in the data\n",
    "indeces = list(range(1,25001))\n",
    "X_train, X_test, y_train, y_test,indices_train,indices_test = train_test_split(X, y,indeces, random_state=42, stratify = y)"
   ]
  },
  {
   "cell_type": "code",
   "execution_count": 42,
   "metadata": {},
   "outputs": [],
   "source": [
    "X_train = X_train.astype('float32')\n",
    "X_test = X_test.astype('float32')"
   ]
  },
  {
   "cell_type": "code",
   "execution_count": 43,
   "metadata": {},
   "outputs": [
    {
     "name": "stdout",
     "output_type": "stream",
     "text": [
      "(18750, 66, 100)\n",
      "(18750,)\n",
      "18750\n",
      "(6250, 66, 100)\n",
      "(6250,)\n",
      "6250\n"
     ]
    }
   ],
   "source": [
    "print(X_train.shape)\n",
    "print(y_train.shape)\n",
    "print(len(indices_train))\n",
    "print(X_test.shape)\n",
    "print(y_test.shape)\n",
    "print(len(indices_test))"
   ]
  },
  {
   "cell_type": "markdown",
   "metadata": {},
   "source": [
    "## Check the class balance "
   ]
  },
  {
   "cell_type": "code",
   "execution_count": 44,
   "metadata": {},
   "outputs": [
    {
     "data": {
      "text/plain": [
       "[(0, 3750), (1, 3750), (2, 3750), (3, 3750), (4, 3750)]"
      ]
     },
     "execution_count": 44,
     "metadata": {},
     "output_type": "execute_result"
    }
   ],
   "source": [
    "# checking class balance in train data\n",
    "\n",
    "lst = []\n",
    "for i in range(0, 5):\n",
    "    count = list(y_train).count(i)\n",
    "    lst.append((i, count))\n",
    "lst"
   ]
  },
  {
   "cell_type": "code",
   "execution_count": 45,
   "metadata": {},
   "outputs": [
    {
     "data": {
      "text/plain": [
       "[(0, 1250), (1, 1250), (2, 1250), (3, 1250), (4, 1250)]"
      ]
     },
     "execution_count": 45,
     "metadata": {},
     "output_type": "execute_result"
    }
   ],
   "source": [
    "# checking class balanced in test data\n",
    "\n",
    "lst = []\n",
    "for i in range(0, 5):\n",
    "    count = list(y_test).count(i)\n",
    "    lst.append((i, count))\n",
    "lst"
   ]
  },
  {
   "cell_type": "markdown",
   "metadata": {},
   "source": [
    "## Reshape the data ro ingest it into keras "
   ]
  },
  {
   "cell_type": "code",
   "execution_count": 46,
   "metadata": {},
   "outputs": [],
   "source": [
    "# Reshape each image to be 28 x 28 x 1.\n",
    "X_train = X_train.reshape(X_train.shape[0], 66, 100, 1)\n",
    "X_test = X_test.reshape(X_test.shape[0], 66, 100, 1)"
   ]
  },
  {
   "cell_type": "code",
   "execution_count": 47,
   "metadata": {},
   "outputs": [],
   "source": [
    "# Dummy the target variable \n",
    "y_train = np_utils.to_categorical(y_train, 5)\n",
    "y_test = np_utils.to_categorical(y_test, 5)"
   ]
  },
  {
   "cell_type": "code",
   "execution_count": 48,
   "metadata": {},
   "outputs": [
    {
     "data": {
      "text/plain": [
       "(6250, 5)"
      ]
     },
     "execution_count": 48,
     "metadata": {},
     "output_type": "execute_result"
    }
   ],
   "source": [
    "y_test.shape"
   ]
  },
  {
   "cell_type": "markdown",
   "metadata": {},
   "source": [
    "## Unrow the data and create a dataframe for sklearn"
   ]
  },
  {
   "cell_type": "code",
   "execution_count": 49,
   "metadata": {},
   "outputs": [
    {
     "name": "stdout",
     "output_type": "stream",
     "text": [
      "(18750, 6600)\n",
      "(18750, 5)\n",
      "\n",
      "\n",
      "(6250, 6600)\n",
      "(6250, 5)\n",
      "\n",
      "\n",
      "\n",
      "(18750, 6600)\n",
      "(6250, 6600)\n"
     ]
    }
   ],
   "source": [
    "X_train_flat = X_train.reshape(X_train.shape[0], -1)\n",
    "X_test_flat = X_test.reshape(X_test.shape[0], -1)\n",
    "\n",
    "print(X_train_flat.shape)\n",
    "print(y_train.shape)\n",
    "print('')\n",
    "print('')\n",
    "print(X_test_flat.shape)\n",
    "print(y_test.shape)\n",
    "\n",
    "X_train_df = pd.DataFrame(X_train_flat)\n",
    "X_test_df = pd.DataFrame(X_test_flat)\n",
    "print('')\n",
    "print('')\n",
    "print('')\n",
    "\n",
    "print(X_train_df.shape)\n",
    "print(X_test_df.shape)"
   ]
  },
  {
   "cell_type": "code",
   "execution_count": 50,
   "metadata": {},
   "outputs": [
    {
     "data": {
      "text/html": [
       "<div>\n",
       "<style scoped>\n",
       "    .dataframe tbody tr th:only-of-type {\n",
       "        vertical-align: middle;\n",
       "    }\n",
       "\n",
       "    .dataframe tbody tr th {\n",
       "        vertical-align: top;\n",
       "    }\n",
       "\n",
       "    .dataframe thead th {\n",
       "        text-align: right;\n",
       "    }\n",
       "</style>\n",
       "<table border=\"1\" class=\"dataframe\">\n",
       "  <thead>\n",
       "    <tr style=\"text-align: right;\">\n",
       "      <th></th>\n",
       "      <th>0</th>\n",
       "      <th>1</th>\n",
       "      <th>2</th>\n",
       "      <th>3</th>\n",
       "      <th>4</th>\n",
       "      <th>5</th>\n",
       "      <th>6</th>\n",
       "      <th>7</th>\n",
       "      <th>8</th>\n",
       "      <th>9</th>\n",
       "      <th>...</th>\n",
       "      <th>6590</th>\n",
       "      <th>6591</th>\n",
       "      <th>6592</th>\n",
       "      <th>6593</th>\n",
       "      <th>6594</th>\n",
       "      <th>6595</th>\n",
       "      <th>6596</th>\n",
       "      <th>6597</th>\n",
       "      <th>6598</th>\n",
       "      <th>6599</th>\n",
       "    </tr>\n",
       "  </thead>\n",
       "  <tbody>\n",
       "    <tr>\n",
       "      <th>0</th>\n",
       "      <td>1.0</td>\n",
       "      <td>1.0</td>\n",
       "      <td>1.0</td>\n",
       "      <td>1.0</td>\n",
       "      <td>1.0</td>\n",
       "      <td>1.0</td>\n",
       "      <td>1.0</td>\n",
       "      <td>1.0</td>\n",
       "      <td>1.0</td>\n",
       "      <td>1.0</td>\n",
       "      <td>...</td>\n",
       "      <td>1.0</td>\n",
       "      <td>1.0</td>\n",
       "      <td>1.0</td>\n",
       "      <td>1.0</td>\n",
       "      <td>1.0</td>\n",
       "      <td>1.0</td>\n",
       "      <td>1.0</td>\n",
       "      <td>1.0</td>\n",
       "      <td>1.0</td>\n",
       "      <td>1.0</td>\n",
       "    </tr>\n",
       "    <tr>\n",
       "      <th>1</th>\n",
       "      <td>1.0</td>\n",
       "      <td>1.0</td>\n",
       "      <td>1.0</td>\n",
       "      <td>1.0</td>\n",
       "      <td>1.0</td>\n",
       "      <td>1.0</td>\n",
       "      <td>1.0</td>\n",
       "      <td>1.0</td>\n",
       "      <td>1.0</td>\n",
       "      <td>1.0</td>\n",
       "      <td>...</td>\n",
       "      <td>1.0</td>\n",
       "      <td>1.0</td>\n",
       "      <td>1.0</td>\n",
       "      <td>1.0</td>\n",
       "      <td>1.0</td>\n",
       "      <td>1.0</td>\n",
       "      <td>1.0</td>\n",
       "      <td>1.0</td>\n",
       "      <td>1.0</td>\n",
       "      <td>1.0</td>\n",
       "    </tr>\n",
       "    <tr>\n",
       "      <th>2</th>\n",
       "      <td>1.0</td>\n",
       "      <td>1.0</td>\n",
       "      <td>1.0</td>\n",
       "      <td>1.0</td>\n",
       "      <td>1.0</td>\n",
       "      <td>1.0</td>\n",
       "      <td>1.0</td>\n",
       "      <td>1.0</td>\n",
       "      <td>1.0</td>\n",
       "      <td>1.0</td>\n",
       "      <td>...</td>\n",
       "      <td>1.0</td>\n",
       "      <td>1.0</td>\n",
       "      <td>1.0</td>\n",
       "      <td>1.0</td>\n",
       "      <td>1.0</td>\n",
       "      <td>1.0</td>\n",
       "      <td>1.0</td>\n",
       "      <td>1.0</td>\n",
       "      <td>1.0</td>\n",
       "      <td>1.0</td>\n",
       "    </tr>\n",
       "    <tr>\n",
       "      <th>3</th>\n",
       "      <td>1.0</td>\n",
       "      <td>1.0</td>\n",
       "      <td>1.0</td>\n",
       "      <td>1.0</td>\n",
       "      <td>1.0</td>\n",
       "      <td>1.0</td>\n",
       "      <td>1.0</td>\n",
       "      <td>1.0</td>\n",
       "      <td>1.0</td>\n",
       "      <td>1.0</td>\n",
       "      <td>...</td>\n",
       "      <td>1.0</td>\n",
       "      <td>1.0</td>\n",
       "      <td>1.0</td>\n",
       "      <td>1.0</td>\n",
       "      <td>1.0</td>\n",
       "      <td>1.0</td>\n",
       "      <td>1.0</td>\n",
       "      <td>1.0</td>\n",
       "      <td>1.0</td>\n",
       "      <td>1.0</td>\n",
       "    </tr>\n",
       "    <tr>\n",
       "      <th>4</th>\n",
       "      <td>1.0</td>\n",
       "      <td>1.0</td>\n",
       "      <td>1.0</td>\n",
       "      <td>1.0</td>\n",
       "      <td>1.0</td>\n",
       "      <td>1.0</td>\n",
       "      <td>1.0</td>\n",
       "      <td>1.0</td>\n",
       "      <td>1.0</td>\n",
       "      <td>1.0</td>\n",
       "      <td>...</td>\n",
       "      <td>1.0</td>\n",
       "      <td>1.0</td>\n",
       "      <td>1.0</td>\n",
       "      <td>1.0</td>\n",
       "      <td>1.0</td>\n",
       "      <td>1.0</td>\n",
       "      <td>1.0</td>\n",
       "      <td>1.0</td>\n",
       "      <td>1.0</td>\n",
       "      <td>1.0</td>\n",
       "    </tr>\n",
       "  </tbody>\n",
       "</table>\n",
       "<p>5 rows × 6600 columns</p>\n",
       "</div>"
      ],
      "text/plain": [
       "   0     1     2     3     4     5     6     7     8     9     ...  6590  \\\n",
       "0   1.0   1.0   1.0   1.0   1.0   1.0   1.0   1.0   1.0   1.0  ...   1.0   \n",
       "1   1.0   1.0   1.0   1.0   1.0   1.0   1.0   1.0   1.0   1.0  ...   1.0   \n",
       "2   1.0   1.0   1.0   1.0   1.0   1.0   1.0   1.0   1.0   1.0  ...   1.0   \n",
       "3   1.0   1.0   1.0   1.0   1.0   1.0   1.0   1.0   1.0   1.0  ...   1.0   \n",
       "4   1.0   1.0   1.0   1.0   1.0   1.0   1.0   1.0   1.0   1.0  ...   1.0   \n",
       "\n",
       "   6591  6592  6593  6594  6595  6596  6597  6598  6599  \n",
       "0   1.0   1.0   1.0   1.0   1.0   1.0   1.0   1.0   1.0  \n",
       "1   1.0   1.0   1.0   1.0   1.0   1.0   1.0   1.0   1.0  \n",
       "2   1.0   1.0   1.0   1.0   1.0   1.0   1.0   1.0   1.0  \n",
       "3   1.0   1.0   1.0   1.0   1.0   1.0   1.0   1.0   1.0  \n",
       "4   1.0   1.0   1.0   1.0   1.0   1.0   1.0   1.0   1.0  \n",
       "\n",
       "[5 rows x 6600 columns]"
      ]
     },
     "execution_count": 50,
     "metadata": {},
     "output_type": "execute_result"
    }
   ],
   "source": [
    "X_train_df.head()"
   ]
  },
  {
   "cell_type": "markdown",
   "metadata": {},
   "source": [
    "# 2. Baseline Model - Multinomial Logistic Regression "
   ]
  },
  {
   "cell_type": "markdown",
   "metadata": {},
   "source": [
    "I will use a multinomial logistic regression to run a one-vs-all multiclass classification on the data to get a baseline score. To run this model, we need the target variable in a single columns as opposed to dummy variables. "
   ]
  },
  {
   "cell_type": "code",
   "execution_count": 52,
   "metadata": {},
   "outputs": [],
   "source": [
    "# create a single column target variable \n",
    "y_train_col = np.argmax(y_train, axis=1)\n",
    "y_test_col = np.argmax(y_test, axis=1)"
   ]
  },
  {
   "cell_type": "code",
   "execution_count": 56,
   "metadata": {},
   "outputs": [],
   "source": [
    "# Create one-vs-rest logistic regression object\n",
    "clf = LogisticRegression(random_state=0, multi_class='ovr', n_jobs = -1)\n",
    "\n",
    "# Train model\n",
    "model = clf.fit(X_train_df, y_train_col)\n",
    "\n",
    "y_tr_pred_lr = clf.predict(X_train_df)\n",
    "y_ts_pred_lr = clf.predict(X_test_df)"
   ]
  },
  {
   "cell_type": "code",
   "execution_count": 58,
   "metadata": {},
   "outputs": [
    {
     "name": "stdout",
     "output_type": "stream",
     "text": [
      "0.92352\n",
      "0.78176\n"
     ]
    }
   ],
   "source": [
    "# get the accuracy scores\n",
    "train_score = accuracy_score(y_tr_pred_lr, y_train_col)\n",
    "test_score = accuracy_score(y_ts_pred_lr, y_test_col)\n",
    "\n",
    "print(train_score)\n",
    "print(test_score)"
   ]
  },
  {
   "cell_type": "markdown",
   "metadata": {},
   "source": [
    "# 3. Modeling - Convolutional Neural Netowork 1"
   ]
  },
  {
   "cell_type": "markdown",
   "metadata": {},
   "source": [
    "Let's build a relatively simple CNN with two convolutional layaers and 2 pooling layers. "
   ]
  },
  {
   "cell_type": "code",
   "execution_count": 124,
   "metadata": {},
   "outputs": [
    {
     "name": "stdout",
     "output_type": "stream",
     "text": [
      "Train on 18750 samples, validate on 6250 samples\n",
      "Epoch 1/100\n",
      "18750/18750 [==============================] - 43s 2ms/step - loss: 1.6712 - acc: 0.2321 - val_loss: 1.6061 - val_acc: 0.2000\n",
      "\n",
      "Epoch 00001: val_acc improved from -inf to 0.20000, saving model to ./best_weights.hdf5\n",
      "Epoch 2/100\n",
      "18750/18750 [==============================] - 43s 2ms/step - loss: 1.6016 - acc: 0.2251 - val_loss: 1.5910 - val_acc: 0.3581\n",
      "\n",
      "Epoch 00002: val_acc improved from 0.20000 to 0.35808, saving model to ./best_weights.hdf5\n",
      "Epoch 3/100\n",
      "18750/18750 [==============================] - 42s 2ms/step - loss: 1.5726 - acc: 0.3517 - val_loss: 1.5163 - val_acc: 0.5333\n",
      "\n",
      "Epoch 00003: val_acc improved from 0.35808 to 0.53328, saving model to ./best_weights.hdf5\n",
      "Epoch 4/100\n",
      "18750/18750 [==============================] - 41s 2ms/step - loss: 1.4598 - acc: 0.5094 - val_loss: 1.3497 - val_acc: 0.4120\n",
      "\n",
      "Epoch 00004: val_acc did not improve from 0.53328\n",
      "Epoch 5/100\n",
      "18750/18750 [==============================] - 42s 2ms/step - loss: 1.3163 - acc: 0.4809 - val_loss: 1.2255 - val_acc: 0.5510\n",
      "\n",
      "Epoch 00005: val_acc improved from 0.53328 to 0.55104, saving model to ./best_weights.hdf5\n",
      "Epoch 6/100\n",
      "18750/18750 [==============================] - 42s 2ms/step - loss: 1.2060 - acc: 0.5514 - val_loss: 1.1647 - val_acc: 0.5987\n",
      "\n",
      "Epoch 00006: val_acc improved from 0.55104 to 0.59872, saving model to ./best_weights.hdf5\n",
      "Epoch 7/100\n",
      "18750/18750 [==============================] - 42s 2ms/step - loss: 1.1258 - acc: 0.5897 - val_loss: 1.0471 - val_acc: 0.6406\n",
      "\n",
      "Epoch 00007: val_acc improved from 0.59872 to 0.64064, saving model to ./best_weights.hdf5\n",
      "Epoch 8/100\n",
      "18750/18750 [==============================] - 42s 2ms/step - loss: 1.0206 - acc: 0.6449 - val_loss: 0.9408 - val_acc: 0.6866\n",
      "\n",
      "Epoch 00008: val_acc improved from 0.64064 to 0.68656, saving model to ./best_weights.hdf5\n",
      "Epoch 9/100\n",
      "18750/18750 [==============================] - 42s 2ms/step - loss: 0.9096 - acc: 0.6891 - val_loss: 0.8445 - val_acc: 0.6998\n",
      "\n",
      "Epoch 00009: val_acc improved from 0.68656 to 0.69984, saving model to ./best_weights.hdf5\n",
      "Epoch 10/100\n",
      "18750/18750 [==============================] - 43s 2ms/step - loss: 0.8159 - acc: 0.7168 - val_loss: 0.7661 - val_acc: 0.7190\n",
      "\n",
      "Epoch 00010: val_acc improved from 0.69984 to 0.71904, saving model to ./best_weights.hdf5\n",
      "Epoch 11/100\n",
      "18750/18750 [==============================] - 42s 2ms/step - loss: 0.8252 - acc: 0.7029 - val_loss: 0.8151 - val_acc: 0.6832\n",
      "\n",
      "Epoch 00011: val_acc did not improve from 0.71904\n",
      "Epoch 12/100\n",
      "18750/18750 [==============================] - 42s 2ms/step - loss: 0.7642 - acc: 0.7225 - val_loss: 0.7032 - val_acc: 0.7374\n",
      "\n",
      "Epoch 00012: val_acc improved from 0.71904 to 0.73744, saving model to ./best_weights.hdf5\n",
      "Epoch 13/100\n",
      "18750/18750 [==============================] - 42s 2ms/step - loss: 0.6968 - acc: 0.7523 - val_loss: 0.6735 - val_acc: 0.7456\n",
      "\n",
      "Epoch 00013: val_acc improved from 0.73744 to 0.74560, saving model to ./best_weights.hdf5\n",
      "Epoch 14/100\n",
      "18750/18750 [==============================] - 42s 2ms/step - loss: 0.6647 - acc: 0.7629 - val_loss: 0.6385 - val_acc: 0.7707\n",
      "\n",
      "Epoch 00014: val_acc improved from 0.74560 to 0.77072, saving model to ./best_weights.hdf5\n",
      "Epoch 15/100\n",
      "18750/18750 [==============================] - 42s 2ms/step - loss: 0.6341 - acc: 0.7731 - val_loss: 0.6157 - val_acc: 0.7821\n",
      "\n",
      "Epoch 00015: val_acc improved from 0.77072 to 0.78208, saving model to ./best_weights.hdf5\n",
      "Epoch 16/100\n",
      "18750/18750 [==============================] - 42s 2ms/step - loss: 0.6087 - acc: 0.7837 - val_loss: 0.5847 - val_acc: 0.7885\n",
      "\n",
      "Epoch 00016: val_acc improved from 0.78208 to 0.78848, saving model to ./best_weights.hdf5\n",
      "Epoch 17/100\n",
      "18750/18750 [==============================] - 42s 2ms/step - loss: 0.5859 - acc: 0.7939 - val_loss: 0.5747 - val_acc: 0.7890\n",
      "\n",
      "Epoch 00017: val_acc improved from 0.78848 to 0.78896, saving model to ./best_weights.hdf5\n",
      "Epoch 18/100\n",
      "18750/18750 [==============================] - 42s 2ms/step - loss: 0.5660 - acc: 0.7999 - val_loss: 0.5474 - val_acc: 0.8064\n",
      "\n",
      "Epoch 00018: val_acc improved from 0.78896 to 0.80640, saving model to ./best_weights.hdf5\n",
      "Epoch 19/100\n",
      "18750/18750 [==============================] - 43s 2ms/step - loss: 0.5490 - acc: 0.8087 - val_loss: 0.5303 - val_acc: 0.8130\n",
      "\n",
      "Epoch 00019: val_acc improved from 0.80640 to 0.81296, saving model to ./best_weights.hdf5\n",
      "Epoch 20/100\n",
      "18750/18750 [==============================] - 42s 2ms/step - loss: 0.5253 - acc: 0.8169 - val_loss: 0.5195 - val_acc: 0.8133\n",
      "\n",
      "Epoch 00020: val_acc improved from 0.81296 to 0.81328, saving model to ./best_weights.hdf5\n",
      "Epoch 21/100\n",
      "18750/18750 [==============================] - 42s 2ms/step - loss: 0.5101 - acc: 0.8214 - val_loss: 0.4966 - val_acc: 0.8230\n",
      "\n",
      "Epoch 00021: val_acc improved from 0.81328 to 0.82304, saving model to ./best_weights.hdf5\n",
      "Epoch 22/100\n",
      "18750/18750 [==============================] - 42s 2ms/step - loss: 0.4895 - acc: 0.8276 - val_loss: 0.4842 - val_acc: 0.8242\n",
      "\n",
      "Epoch 00022: val_acc improved from 0.82304 to 0.82416, saving model to ./best_weights.hdf5\n",
      "Epoch 23/100\n",
      "18750/18750 [==============================] - 42s 2ms/step - loss: 0.4721 - acc: 0.8338 - val_loss: 0.4678 - val_acc: 0.8338\n",
      "\n",
      "Epoch 00023: val_acc improved from 0.82416 to 0.83376, saving model to ./best_weights.hdf5\n",
      "Epoch 24/100\n",
      "18750/18750 [==============================] - 42s 2ms/step - loss: 0.4568 - acc: 0.8399 - val_loss: 0.4629 - val_acc: 0.8382\n",
      "\n",
      "Epoch 00024: val_acc improved from 0.83376 to 0.83824, saving model to ./best_weights.hdf5\n",
      "Epoch 25/100\n",
      "18750/18750 [==============================] - 42s 2ms/step - loss: 0.4517 - acc: 0.8422 - val_loss: 0.4447 - val_acc: 0.8464\n",
      "\n",
      "Epoch 00025: val_acc improved from 0.83824 to 0.84640, saving model to ./best_weights.hdf5\n",
      "Epoch 26/100\n",
      "18750/18750 [==============================] - 42s 2ms/step - loss: 0.4362 - acc: 0.8474 - val_loss: 0.4375 - val_acc: 0.8461\n",
      "\n",
      "Epoch 00026: val_acc did not improve from 0.84640\n",
      "Epoch 27/100\n",
      "18750/18750 [==============================] - 42s 2ms/step - loss: 0.4194 - acc: 0.8526 - val_loss: 0.4213 - val_acc: 0.8541\n",
      "\n",
      "Epoch 00027: val_acc improved from 0.84640 to 0.85408, saving model to ./best_weights.hdf5\n",
      "Epoch 28/100\n",
      "18750/18750 [==============================] - 41s 2ms/step - loss: 0.4088 - acc: 0.8555 - val_loss: 0.4200 - val_acc: 0.8530\n",
      "\n",
      "Epoch 00028: val_acc did not improve from 0.85408\n",
      "Epoch 29/100\n",
      "18750/18750 [==============================] - 42s 2ms/step - loss: 0.4036 - acc: 0.8585 - val_loss: 0.4084 - val_acc: 0.8587\n",
      "\n",
      "Epoch 00029: val_acc improved from 0.85408 to 0.85872, saving model to ./best_weights.hdf5\n",
      "Epoch 30/100\n",
      "18750/18750 [==============================] - 41s 2ms/step - loss: 0.3905 - acc: 0.8632 - val_loss: 0.4021 - val_acc: 0.8618\n",
      "\n",
      "Epoch 00030: val_acc improved from 0.85872 to 0.86176, saving model to ./best_weights.hdf5\n",
      "Epoch 31/100\n",
      "18750/18750 [==============================] - 42s 2ms/step - loss: 0.3815 - acc: 0.8669 - val_loss: 0.4071 - val_acc: 0.8602\n",
      "\n",
      "Epoch 00031: val_acc did not improve from 0.86176\n",
      "Epoch 32/100\n",
      "18750/18750 [==============================] - 42s 2ms/step - loss: 0.3775 - acc: 0.8676 - val_loss: 0.4168 - val_acc: 0.8538\n",
      "\n",
      "Epoch 00032: val_acc did not improve from 0.86176\n",
      "Epoch 33/100\n",
      "18750/18750 [==============================] - 42s 2ms/step - loss: 0.3764 - acc: 0.8683 - val_loss: 0.3858 - val_acc: 0.8658\n",
      "\n",
      "Epoch 00033: val_acc improved from 0.86176 to 0.86576, saving model to ./best_weights.hdf5\n",
      "Epoch 34/100\n",
      "18750/18750 [==============================] - 42s 2ms/step - loss: 0.3686 - acc: 0.8709 - val_loss: 0.3894 - val_acc: 0.8635\n",
      "\n",
      "Epoch 00034: val_acc did not improve from 0.86576\n",
      "Epoch 35/100\n",
      "18750/18750 [==============================] - 42s 2ms/step - loss: 0.3659 - acc: 0.8731 - val_loss: 0.3857 - val_acc: 0.8637\n",
      "\n",
      "Epoch 00035: val_acc did not improve from 0.86576\n",
      "Epoch 36/100\n",
      "18750/18750 [==============================] - 42s 2ms/step - loss: 0.3521 - acc: 0.8772 - val_loss: 0.3757 - val_acc: 0.8718\n",
      "\n",
      "Epoch 00036: val_acc improved from 0.86576 to 0.87184, saving model to ./best_weights.hdf5\n",
      "Epoch 37/100\n",
      "18750/18750 [==============================] - 42s 2ms/step - loss: 0.3467 - acc: 0.8788 - val_loss: 0.3866 - val_acc: 0.8608\n",
      "\n",
      "Epoch 00037: val_acc did not improve from 0.87184\n",
      "Epoch 38/100\n"
     ]
    },
    {
     "name": "stdout",
     "output_type": "stream",
     "text": [
      "18750/18750 [==============================] - 42s 2ms/step - loss: 0.3444 - acc: 0.8787 - val_loss: 0.3797 - val_acc: 0.8651\n",
      "\n",
      "Epoch 00038: val_acc did not improve from 0.87184\n",
      "Epoch 39/100\n",
      "18750/18750 [==============================] - 43s 2ms/step - loss: 0.3385 - acc: 0.8826 - val_loss: 0.3750 - val_acc: 0.8686\n",
      "\n",
      "Epoch 00039: val_acc did not improve from 0.87184\n",
      "Epoch 40/100\n",
      "18750/18750 [==============================] - 42s 2ms/step - loss: 0.3369 - acc: 0.8830 - val_loss: 0.3620 - val_acc: 0.8720\n",
      "\n",
      "Epoch 00040: val_acc improved from 0.87184 to 0.87200, saving model to ./best_weights.hdf5\n",
      "Epoch 41/100\n",
      "18750/18750 [==============================] - 42s 2ms/step - loss: 0.3267 - acc: 0.8855 - val_loss: 0.3580 - val_acc: 0.8754\n",
      "\n",
      "Epoch 00041: val_acc improved from 0.87200 to 0.87536, saving model to ./best_weights.hdf5\n",
      "Epoch 42/100\n",
      "18750/18750 [==============================] - 42s 2ms/step - loss: 0.3188 - acc: 0.8900 - val_loss: 0.3712 - val_acc: 0.8666\n",
      "\n",
      "Epoch 00042: val_acc did not improve from 0.87536\n",
      "Epoch 43/100\n",
      "18750/18750 [==============================] - 42s 2ms/step - loss: 0.3184 - acc: 0.8900 - val_loss: 0.3528 - val_acc: 0.8746\n",
      "\n",
      "Epoch 00043: val_acc did not improve from 0.87536\n",
      "Epoch 44/100\n",
      "18750/18750 [==============================] - 41s 2ms/step - loss: 0.3131 - acc: 0.8917 - val_loss: 0.3566 - val_acc: 0.8752\n",
      "\n",
      "Epoch 00044: val_acc did not improve from 0.87536\n",
      "Epoch 45/100\n",
      "18750/18750 [==============================] - 42s 2ms/step - loss: 0.3117 - acc: 0.8930 - val_loss: 0.3622 - val_acc: 0.8747\n",
      "\n",
      "Epoch 00045: val_acc did not improve from 0.87536\n",
      "Epoch 46/100\n",
      "18750/18750 [==============================] - 42s 2ms/step - loss: 0.3096 - acc: 0.8919 - val_loss: 0.3435 - val_acc: 0.8798\n",
      "\n",
      "Epoch 00046: val_acc improved from 0.87536 to 0.87984, saving model to ./best_weights.hdf5\n",
      "Epoch 47/100\n",
      "18750/18750 [==============================] - 41s 2ms/step - loss: 0.3016 - acc: 0.8945 - val_loss: 0.3441 - val_acc: 0.8786\n",
      "\n",
      "Epoch 00047: val_acc did not improve from 0.87984\n",
      "Epoch 48/100\n",
      "18750/18750 [==============================] - 42s 2ms/step - loss: 0.2939 - acc: 0.8990 - val_loss: 0.3378 - val_acc: 0.8811\n",
      "\n",
      "Epoch 00048: val_acc improved from 0.87984 to 0.88112, saving model to ./best_weights.hdf5\n",
      "Epoch 49/100\n",
      "18750/18750 [==============================] - 42s 2ms/step - loss: 0.2876 - acc: 0.9008 - val_loss: 0.3445 - val_acc: 0.8792\n",
      "\n",
      "Epoch 00049: val_acc did not improve from 0.88112\n",
      "Epoch 50/100\n",
      "18750/18750 [==============================] - 42s 2ms/step - loss: 0.2871 - acc: 0.9006 - val_loss: 0.3349 - val_acc: 0.8808\n",
      "\n",
      "Epoch 00050: val_acc did not improve from 0.88112\n",
      "Epoch 51/100\n",
      "18750/18750 [==============================] - 42s 2ms/step - loss: 0.2841 - acc: 0.9003 - val_loss: 0.3522 - val_acc: 0.8750\n",
      "\n",
      "Epoch 00051: val_acc did not improve from 0.88112\n",
      "Epoch 52/100\n",
      "18750/18750 [==============================] - 42s 2ms/step - loss: 0.2851 - acc: 0.9002 - val_loss: 0.3417 - val_acc: 0.8790\n",
      "\n",
      "Epoch 00052: val_acc did not improve from 0.88112\n",
      "Epoch 53/100\n",
      "18750/18750 [==============================] - 42s 2ms/step - loss: 0.2758 - acc: 0.9045 - val_loss: 0.3259 - val_acc: 0.8853\n",
      "\n",
      "Epoch 00053: val_acc improved from 0.88112 to 0.88528, saving model to ./best_weights.hdf5\n",
      "Epoch 54/100\n",
      "18750/18750 [==============================] - 41s 2ms/step - loss: 0.2714 - acc: 0.9045 - val_loss: 0.3283 - val_acc: 0.8835\n",
      "\n",
      "Epoch 00054: val_acc did not improve from 0.88528\n",
      "Epoch 55/100\n",
      "18750/18750 [==============================] - 41s 2ms/step - loss: 0.2712 - acc: 0.9068 - val_loss: 0.3313 - val_acc: 0.8814\n",
      "\n",
      "Epoch 00055: val_acc did not improve from 0.88528\n",
      "Epoch 56/100\n",
      "18750/18750 [==============================] - 41s 2ms/step - loss: 0.2658 - acc: 0.9099 - val_loss: 0.3220 - val_acc: 0.8883\n",
      "\n",
      "Epoch 00056: val_acc improved from 0.88528 to 0.88832, saving model to ./best_weights.hdf5\n",
      "Epoch 57/100\n",
      "18750/18750 [==============================] - 42s 2ms/step - loss: 0.2602 - acc: 0.9107 - val_loss: 0.3224 - val_acc: 0.8885\n",
      "\n",
      "Epoch 00057: val_acc improved from 0.88832 to 0.88848, saving model to ./best_weights.hdf5\n",
      "Epoch 58/100\n",
      "18750/18750 [==============================] - 41s 2ms/step - loss: 0.2569 - acc: 0.9113 - val_loss: 0.3164 - val_acc: 0.8898\n",
      "\n",
      "Epoch 00058: val_acc improved from 0.88848 to 0.88976, saving model to ./best_weights.hdf5\n",
      "Epoch 59/100\n",
      "18750/18750 [==============================] - 42s 2ms/step - loss: 0.2518 - acc: 0.9139 - val_loss: 0.3161 - val_acc: 0.8885\n",
      "\n",
      "Epoch 00059: val_acc did not improve from 0.88976\n",
      "Epoch 60/100\n",
      "18750/18750 [==============================] - 42s 2ms/step - loss: 0.2485 - acc: 0.9144 - val_loss: 0.3115 - val_acc: 0.8915\n",
      "\n",
      "Epoch 00060: val_acc improved from 0.88976 to 0.89152, saving model to ./best_weights.hdf5\n",
      "Epoch 61/100\n",
      "18750/18750 [==============================] - 42s 2ms/step - loss: 0.2450 - acc: 0.9161 - val_loss: 0.3154 - val_acc: 0.8886\n",
      "\n",
      "Epoch 00061: val_acc did not improve from 0.89152\n",
      "Epoch 62/100\n",
      "18750/18750 [==============================] - 42s 2ms/step - loss: 0.2416 - acc: 0.9177 - val_loss: 0.3080 - val_acc: 0.8910\n",
      "\n",
      "Epoch 00062: val_acc did not improve from 0.89152\n",
      "Epoch 63/100\n",
      "18750/18750 [==============================] - 43s 2ms/step - loss: 0.2401 - acc: 0.9193 - val_loss: 0.3229 - val_acc: 0.8862\n",
      "\n",
      "Epoch 00063: val_acc did not improve from 0.89152\n",
      "Epoch 64/100\n",
      "18750/18750 [==============================] - 42s 2ms/step - loss: 0.2383 - acc: 0.9188 - val_loss: 0.3110 - val_acc: 0.8909\n",
      "\n",
      "Epoch 00064: val_acc did not improve from 0.89152\n",
      "Epoch 65/100\n",
      "18750/18750 [==============================] - 42s 2ms/step - loss: 0.2341 - acc: 0.9190 - val_loss: 0.3173 - val_acc: 0.8880\n",
      "\n",
      "Epoch 00065: val_acc did not improve from 0.89152\n",
      "Epoch 66/100\n",
      "18750/18750 [==============================] - 42s 2ms/step - loss: 0.2385 - acc: 0.9191 - val_loss: 0.3291 - val_acc: 0.8822\n",
      "\n",
      "Epoch 00066: val_acc did not improve from 0.89152\n",
      "Epoch 67/100\n",
      "18750/18750 [==============================] - 42s 2ms/step - loss: 0.2354 - acc: 0.9178 - val_loss: 0.3108 - val_acc: 0.8907\n",
      "\n",
      "Epoch 00067: val_acc did not improve from 0.89152\n",
      "Epoch 68/100\n",
      "18750/18750 [==============================] - 42s 2ms/step - loss: 0.2270 - acc: 0.9225 - val_loss: 0.3032 - val_acc: 0.8952\n",
      "\n",
      "Epoch 00068: val_acc improved from 0.89152 to 0.89520, saving model to ./best_weights.hdf5\n",
      "Epoch 69/100\n",
      "18750/18750 [==============================] - 41s 2ms/step - loss: 0.2193 - acc: 0.9247 - val_loss: 0.3114 - val_acc: 0.8906\n",
      "\n",
      "Epoch 00069: val_acc did not improve from 0.89520\n",
      "Epoch 70/100\n",
      "18750/18750 [==============================] - 41s 2ms/step - loss: 0.2209 - acc: 0.9258 - val_loss: 0.3137 - val_acc: 0.8906\n",
      "\n",
      "Epoch 00070: val_acc did not improve from 0.89520\n",
      "Epoch 71/100\n",
      "18750/18750 [==============================] - 42s 2ms/step - loss: 0.2261 - acc: 0.9218 - val_loss: 0.3032 - val_acc: 0.8949\n",
      "\n",
      "Epoch 00071: val_acc did not improve from 0.89520\n",
      "Epoch 72/100\n",
      "18750/18750 [==============================] - 42s 2ms/step - loss: 0.2182 - acc: 0.9262 - val_loss: 0.3026 - val_acc: 0.8963\n",
      "\n",
      "Epoch 00072: val_acc improved from 0.89520 to 0.89632, saving model to ./best_weights.hdf5\n",
      "Epoch 73/100\n",
      "18750/18750 [==============================] - 42s 2ms/step - loss: 0.2156 - acc: 0.9263 - val_loss: 0.3035 - val_acc: 0.8946\n",
      "\n",
      "Epoch 00073: val_acc did not improve from 0.89632\n",
      "Epoch 74/100\n",
      "18750/18750 [==============================] - 41s 2ms/step - loss: 0.2107 - acc: 0.9281 - val_loss: 0.2917 - val_acc: 0.9002\n",
      "\n",
      "Epoch 00074: val_acc improved from 0.89632 to 0.90016, saving model to ./best_weights.hdf5\n",
      "Epoch 75/100\n",
      "18750/18750 [==============================] - 42s 2ms/step - loss: 0.2020 - acc: 0.9313 - val_loss: 0.2944 - val_acc: 0.8979\n",
      "\n",
      "Epoch 00075: val_acc did not improve from 0.90016\n",
      "Epoch 76/100\n",
      "18750/18750 [==============================] - 41s 2ms/step - loss: 0.2027 - acc: 0.9311 - val_loss: 0.3072 - val_acc: 0.8941\n",
      "\n",
      "Epoch 00076: val_acc did not improve from 0.90016\n",
      "Epoch 77/100\n",
      "18750/18750 [==============================] - 41s 2ms/step - loss: 0.2054 - acc: 0.9295 - val_loss: 0.3031 - val_acc: 0.8971\n",
      "\n",
      "Epoch 00077: val_acc did not improve from 0.90016\n",
      "Epoch 78/100\n",
      "18750/18750 [==============================] - 41s 2ms/step - loss: 0.2045 - acc: 0.9301 - val_loss: 0.2980 - val_acc: 0.8965\n"
     ]
    },
    {
     "name": "stdout",
     "output_type": "stream",
     "text": [
      "\n",
      "Epoch 00078: val_acc did not improve from 0.90016\n",
      "Epoch 79/100\n",
      "18750/18750 [==============================] - 41s 2ms/step - loss: 0.1993 - acc: 0.9325 - val_loss: 0.2868 - val_acc: 0.9035\n",
      "\n",
      "Epoch 00079: val_acc improved from 0.90016 to 0.90352, saving model to ./best_weights.hdf5\n",
      "Epoch 80/100\n",
      "18750/18750 [==============================] - 42s 2ms/step - loss: 0.1997 - acc: 0.9316 - val_loss: 0.2933 - val_acc: 0.8987\n",
      "\n",
      "Epoch 00080: val_acc did not improve from 0.90352\n",
      "Epoch 81/100\n",
      "18750/18750 [==============================] - 41s 2ms/step - loss: 0.1931 - acc: 0.9338 - val_loss: 0.2931 - val_acc: 0.8997\n",
      "\n",
      "Epoch 00081: val_acc did not improve from 0.90352\n",
      "Epoch 82/100\n",
      "18750/18750 [==============================] - 42s 2ms/step - loss: 0.1938 - acc: 0.9340 - val_loss: 0.2901 - val_acc: 0.9021\n",
      "\n",
      "Epoch 00082: val_acc did not improve from 0.90352\n",
      "Epoch 83/100\n",
      "18750/18750 [==============================] - 41s 2ms/step - loss: 0.1862 - acc: 0.9383 - val_loss: 0.2882 - val_acc: 0.9038\n",
      "\n",
      "Epoch 00083: val_acc improved from 0.90352 to 0.90384, saving model to ./best_weights.hdf5\n",
      "Epoch 84/100\n",
      "18750/18750 [==============================] - 41s 2ms/step - loss: 0.1819 - acc: 0.9382 - val_loss: 0.2866 - val_acc: 0.9030\n",
      "\n",
      "Epoch 00084: val_acc did not improve from 0.90384\n",
      "Epoch 85/100\n",
      "18750/18750 [==============================] - 41s 2ms/step - loss: 0.1813 - acc: 0.9382 - val_loss: 0.2915 - val_acc: 0.9014\n",
      "\n",
      "Epoch 00085: val_acc did not improve from 0.90384\n",
      "Epoch 86/100\n",
      "18750/18750 [==============================] - 41s 2ms/step - loss: 0.1758 - acc: 0.9390 - val_loss: 0.2880 - val_acc: 0.9024\n",
      "\n",
      "Epoch 00086: val_acc did not improve from 0.90384\n",
      "Epoch 87/100\n",
      "18750/18750 [==============================] - 41s 2ms/step - loss: 0.1785 - acc: 0.9399 - val_loss: 0.2961 - val_acc: 0.8981\n",
      "\n",
      "Epoch 00087: val_acc did not improve from 0.90384\n",
      "Epoch 88/100\n",
      "18750/18750 [==============================] - 40s 2ms/step - loss: 0.1800 - acc: 0.9393 - val_loss: 0.2868 - val_acc: 0.9021\n",
      "\n",
      "Epoch 00088: val_acc did not improve from 0.90384\n",
      "Epoch 89/100\n",
      "18750/18750 [==============================] - 40s 2ms/step - loss: 0.1687 - acc: 0.9431 - val_loss: 0.2897 - val_acc: 0.9021\n",
      "\n",
      "Epoch 00089: val_acc did not improve from 0.90384\n",
      "Epoch 90/100\n",
      "18750/18750 [==============================] - 39s 2ms/step - loss: 0.1700 - acc: 0.9434 - val_loss: 0.2779 - val_acc: 0.9069\n",
      "\n",
      "Epoch 00090: val_acc improved from 0.90384 to 0.90688, saving model to ./best_weights.hdf5\n",
      "Epoch 91/100\n",
      "18750/18750 [==============================] - 38s 2ms/step - loss: 0.1616 - acc: 0.9452 - val_loss: 0.2841 - val_acc: 0.9058\n",
      "\n",
      "Epoch 00091: val_acc did not improve from 0.90688\n",
      "Epoch 92/100\n",
      "18750/18750 [==============================] - 38s 2ms/step - loss: 0.1577 - acc: 0.9485 - val_loss: 0.2781 - val_acc: 0.9075\n",
      "\n",
      "Epoch 00092: val_acc improved from 0.90688 to 0.90752, saving model to ./best_weights.hdf5\n",
      "Epoch 93/100\n",
      "18750/18750 [==============================] - 38s 2ms/step - loss: 0.1594 - acc: 0.9468 - val_loss: 0.2855 - val_acc: 0.9048\n",
      "\n",
      "Epoch 00093: val_acc did not improve from 0.90752\n",
      "Epoch 94/100\n",
      "18750/18750 [==============================] - 38s 2ms/step - loss: 0.1547 - acc: 0.9482 - val_loss: 0.2847 - val_acc: 0.9048\n",
      "\n",
      "Epoch 00094: val_acc did not improve from 0.90752\n",
      "Epoch 95/100\n",
      "18750/18750 [==============================] - 38s 2ms/step - loss: 0.1561 - acc: 0.9469 - val_loss: 0.2969 - val_acc: 0.9003\n",
      "\n",
      "Epoch 00095: val_acc did not improve from 0.90752\n",
      "Epoch 96/100\n",
      "18750/18750 [==============================] - 38s 2ms/step - loss: 0.1631 - acc: 0.9430 - val_loss: 0.2915 - val_acc: 0.9026\n",
      "\n",
      "Epoch 00096: val_acc did not improve from 0.90752\n",
      "Epoch 97/100\n",
      "18750/18750 [==============================] - 39s 2ms/step - loss: 0.1594 - acc: 0.9466 - val_loss: 0.3076 - val_acc: 0.8970\n",
      "\n",
      "Epoch 00097: val_acc did not improve from 0.90752\n",
      "Epoch 98/100\n",
      "18750/18750 [==============================] - 38s 2ms/step - loss: 0.1599 - acc: 0.9455 - val_loss: 0.2798 - val_acc: 0.9064\n",
      "\n",
      "Epoch 00098: val_acc did not improve from 0.90752\n",
      "Epoch 99/100\n",
      "18750/18750 [==============================] - 38s 2ms/step - loss: 0.1415 - acc: 0.9548 - val_loss: 0.2768 - val_acc: 0.9075\n",
      "\n",
      "Epoch 00099: val_acc did not improve from 0.90752\n",
      "Epoch 100/100\n",
      "18750/18750 [==============================] - 38s 2ms/step - loss: 0.1363 - acc: 0.9564 - val_loss: 0.2823 - val_acc: 0.9074\n",
      "\n",
      "Epoch 00100: val_acc did not improve from 0.90752\n"
     ]
    }
   ],
   "source": [
    "np.random.seed(42)\n",
    "\n",
    "checkpointer = ModelCheckpoint(filepath=\"./best_weights.hdf5\", \n",
    "                               monitor = 'val_acc',\n",
    "                               verbose=1, \n",
    "                               save_best_only=True)\n",
    "\n",
    "\n",
    "cnn_model = Sequential()\n",
    "\n",
    "cnn_model.add(Conv2D(filters = 6,\n",
    "                    kernel_size = (6,6),\n",
    "                    activation = 'relu', \n",
    "                    input_shape = (66, 100,1)\n",
    "                    ))\n",
    "\n",
    "cnn_model.add(MaxPooling2D(pool_size = (4,4)))\n",
    "\n",
    "cnn_model.add(Conv2D(filters = 16,\n",
    "                    kernel_size = (6,6),\n",
    "                    activation = 'relu'\n",
    "                    ))\n",
    "\n",
    "cnn_model.add(MaxPooling2D(pool_size = (4,4)))\n",
    "\n",
    "cnn_model.add(Flatten())\n",
    "\n",
    "cnn_model.add(Dense(3000, activation = 'relu'))\n",
    "\n",
    "cnn_model.add(Dense(3000, activation = 'relu'))\n",
    "\n",
    "cnn_model.add(Dense(5, activation = 'softmax'))\n",
    "\n",
    "cnn_model.compile(loss = 'categorical_crossentropy', \n",
    "                 optimizer = 'adam', \n",
    "                 metrics = ['accuracy'])\n",
    "\n",
    "#early_stop = EarlyStopping(monitor='val_loss', min_delta=0, patience=5, verbose=1, mode='auto')\n",
    "\n",
    "\n",
    "history = cnn_model.fit(X_train,\n",
    "                        y_train,\n",
    "                       batch_size = 4096, \n",
    "                       validation_data = (X_test, y_test),\n",
    "                       epochs = 100,\n",
    "                       callbacks=[checkpointer],\n",
    "                       verbose = 1)"
   ]
  },
  {
   "cell_type": "markdown",
   "metadata": {},
   "source": [
    "This is what the model architecture looks like"
   ]
  },
  {
   "cell_type": "code",
   "execution_count": 98,
   "metadata": {},
   "outputs": [
    {
     "name": "stdout",
     "output_type": "stream",
     "text": [
      "_________________________________________________________________\n",
      "Layer (type)                 Output Shape              Param #   \n",
      "=================================================================\n",
      "conv2d_1 (Conv2D)            (None, 61, 95, 6)         222       \n",
      "_________________________________________________________________\n",
      "max_pooling2d_1 (MaxPooling2 (None, 15, 23, 6)         0         \n",
      "_________________________________________________________________\n",
      "conv2d_2 (Conv2D)            (None, 10, 18, 16)        3472      \n",
      "_________________________________________________________________\n",
      "max_pooling2d_2 (MaxPooling2 (None, 2, 4, 16)          0         \n",
      "_________________________________________________________________\n",
      "flatten_1 (Flatten)          (None, 128)               0         \n",
      "_________________________________________________________________\n",
      "dense_1 (Dense)              (None, 3000)              387000    \n",
      "_________________________________________________________________\n",
      "dense_2 (Dense)              (None, 3000)              9003000   \n",
      "_________________________________________________________________\n",
      "dense_3 (Dense)              (None, 5)                 15005     \n",
      "=================================================================\n",
      "Total params: 9,408,699\n",
      "Trainable params: 9,408,699\n",
      "Non-trainable params: 0\n",
      "_________________________________________________________________\n"
     ]
    }
   ],
   "source": [
    "cnn_model.summary()"
   ]
  },
  {
   "cell_type": "code",
   "execution_count": 89,
   "metadata": {},
   "outputs": [
    {
     "name": "stdout",
     "output_type": "stream",
     "text": [
      "Saved model to disk\n"
     ]
    }
   ],
   "source": [
    "# save model to JSON\n",
    "model_json = cnn_model.to_json()\n",
    "with open(\"./model/cnn_model_architecture.json\", \"w\") as json_file:\n",
    "    json_file.write(model_json)\n",
    "# save weights to HDF5\n",
    "cnn_model.save_weights(\"./model/cnn_model_weights.h5\")\n",
    "print(\"Saved model to disk\")"
   ]
  },
  {
   "cell_type": "markdown",
   "metadata": {},
   "source": [
    "### Evaluate the model "
   ]
  },
  {
   "cell_type": "code",
   "execution_count": 99,
   "metadata": {},
   "outputs": [
    {
     "name": "stdout",
     "output_type": "stream",
     "text": [
      "6250/6250 [==============================] - 7s 1ms/step\n",
      "loss: 0.2716202089834213\n",
      "acc: 0.9111999999618531\n"
     ]
    }
   ],
   "source": [
    "# Evaluate model on test data.\n",
    "score = cnn_model.evaluate(X_test,\n",
    "                       y_test,\n",
    "                       verbose=1)\n",
    "\n",
    "labels = cnn_model.metrics_names\n",
    "\n",
    "# Show model performance.\n",
    "print(f'{labels[0]}: {score[0]}')\n",
    "print(f'{labels[1]}: {score[1]}')"
   ]
  },
  {
   "cell_type": "code",
   "execution_count": 125,
   "metadata": {},
   "outputs": [
    {
     "name": "stderr",
     "output_type": "stream",
     "text": [
      "/anaconda3/lib/python3.7/site-packages/ipykernel_launcher.py:16: DeprecationWarning: object of type <class 'float'> cannot be safely interpreted as an integer.\n",
      "  app.launch_new_instance()\n"
     ]
    },
    {
     "data": {
      "image/png": "[encoded data removed]",
      "text/plain": [
       "<Figure size 864x576 with 1 Axes>"
      ]
     },
     "metadata": {
      "needs_background": "light"
     },
     "output_type": "display_data"
    }
   ],
   "source": [
    "# plot the loss for training and testing sets over epochs \n",
    "train_loss = history.history['loss']\n",
    "test_loss = history.history['val_loss']\n",
    "\n",
    "# Set figure size.\n",
    "plt.figure(figsize=(12, 8))\n",
    "\n",
    "# Generate line plot of training, testing loss over epochs.\n",
    "plt.plot(train_loss, label='Training Loss', color='#185fad')\n",
    "plt.plot(test_loss, label='Testing Loss', color='orange')\n",
    "\n",
    "# Set title\n",
    "plt.title('Training and Testing Loss by Epoch', fontsize = 25)\n",
    "plt.xlabel('Epoch', fontsize = 18)\n",
    "plt.ylabel('Categorical Crossentropy', fontsize = 18)\n",
    "plt.xticks(list(np.linspace(1,2.1,3.1).astype(int)))\n",
    "\n",
    "plt.legend(fontsize = 18);"
   ]
  },
  {
   "cell_type": "code",
   "execution_count": 126,
   "metadata": {},
   "outputs": [
    {
     "name": "stderr",
     "output_type": "stream",
     "text": [
      "/anaconda3/lib/python3.7/site-packages/ipykernel_launcher.py:11: DeprecationWarning: object of type <class 'float'> cannot be safely interpreted as an integer.\n",
      "  # This is added back by InteractiveShellApp.init_path()\n"
     ]
    },
    {
     "data": {
      "image/png": "[encoded data removed]",
      "text/plain": [
       "<Figure size 864x576 with 1 Axes>"
      ]
     },
     "metadata": {
      "needs_background": "light"
     },
     "output_type": "display_data"
    }
   ],
   "source": [
    "# Plot the accuracy for training and testing sets over ecpochs \n",
    "plt.figure(figsize=(12, 8))\n",
    "\n",
    "plt.plot(history.history['acc'], label='Train accuracy')\n",
    "plt.plot(history.history['val_acc'], label='Val accuracy')\n",
    "plt.legend();\n",
    "\n",
    "plt.title('Training and Testing Accuracy by Epoch', fontsize = 25)\n",
    "plt.xlabel('Epoch', fontsize = 18)\n",
    "plt.ylabel('Categorical Crossentropy', fontsize = 18)\n",
    "plt.xticks(list(np.linspace(1,2.1,3.1).astype(int)));"
   ]
  },
  {
   "cell_type": "markdown",
   "metadata": {},
   "source": [
    "### Make predictions to build a confusion matrix "
   ]
  },
  {
   "cell_type": "code",
   "execution_count": 127,
   "metadata": {},
   "outputs": [],
   "source": [
    "y_tr_pred_cnn = cnn_model.predict_classes(X_train)\n",
    "y_ts_pred_cnn = cnn_model.predict_classes(X_test)\n",
    "\n",
    "y_test_col = np.argmax(y_test, axis=1)\n",
    "y_train_col = np.argmax(y_train, axis=1)"
   ]
  },
  {
   "cell_type": "code",
   "execution_count": 128,
   "metadata": {},
   "outputs": [
    {
     "data": {
      "image/png": "[encoded data removed]",
      "text/plain": [
       "<Figure size 720x576 with 2 Axes>"
      ]
     },
     "metadata": {
      "needs_background": "light"
     },
     "output_type": "display_data"
    }
   ],
   "source": [
    "import seaborn as sns\n",
    "from sklearn.metrics import confusion_matrix\n",
    "\n",
    "plt.figure(figsize=(10,8))\n",
    "\n",
    "sns.heatmap(confusion_matrix(y_test_col, y_ts_pred_cnn).astype('float') / confusion_matrix(y_test_col, y_ts_pred_cnn).sum(axis=1)[:, np.newaxis],\n",
    "           annot = True, fmt = '.2f', )\n",
    "plt.xlabel('Predicted')\n",
    "plt.ylabel('Actual')\n",
    "plt.title('Confusion Matrix - Normalized')\n",
    "    \n",
    "plt.show()\n",
    "\n"
   ]
  },
  {
   "cell_type": "code",
   "execution_count": 130,
   "metadata": {},
   "outputs": [
    {
     "name": "stdout",
     "output_type": "stream",
     "text": [
      "              precision    recall  f1-score   support\n",
      "\n",
      "     class 0       0.82      0.88      0.85      1250\n",
      "     class 1       0.89      0.89      0.89      1250\n",
      "     class 2       0.93      0.85      0.89      1250\n",
      "     class 3       0.95      0.96      0.96      1250\n",
      "     class 4       0.94      0.95      0.95      1250\n",
      "\n",
      "   micro avg       0.91      0.91      0.91      6250\n",
      "   macro avg       0.91      0.91      0.91      6250\n",
      "weighted avg       0.91      0.91      0.91      6250\n",
      "\n"
     ]
    }
   ],
   "source": [
    "from sklearn.metrics import classification_report, accuracy_score\n",
    "target_names = ['class 0', 'class 1', 'class 2', 'class 3', 'class 4']\n",
    "print(classification_report(y_test_col, y_ts_pred_cnn, target_names=target_names))"
   ]
  },
  {
   "cell_type": "markdown",
   "metadata": {},
   "source": [
    "# 4. Clustering Misclassifications "
   ]
  },
  {
   "cell_type": "markdown",
   "metadata": {},
   "source": [
    "It's interesting to look at the actual misclassificaitons produced by this model to determine whether there are any distinct patterns or features in the images that the model is misclassifying. Some questions this approach may help answer are: \n",
    "1. Can we cluster such images into groups? \n",
    "2. Do these clusters make sense? \n",
    "3. If yes, we can try and understand when the model is expected to fail at correctly predicting.\n",
    "4. Is this failure within a reasonable acceptance criteria? \n",
    "5. If no – what can be done? "
   ]
  },
  {
   "cell_type": "markdown",
   "metadata": {},
   "source": [
    "I used unsupervised learning models to see if I could cluster misclassified images into meaningful groups. \n",
    "In order to acieve this, the indices_test variable created during the train_test_split of the data was filtered to align and correspond with the misclasifications to create a misclassifications datafame. "
   ]
  },
  {
   "cell_type": "code",
   "execution_count": 138,
   "metadata": {},
   "outputs": [],
   "source": [
    "predictions = pd.DataFrame({'index':indices_test, \n",
    "                            'y_test':list(y_test_col), \n",
    "                            'y_pred':list(y_ts_pred_cnn)})"
   ]
  },
  {
   "cell_type": "code",
   "execution_count": 139,
   "metadata": {},
   "outputs": [
    {
     "data": {
      "text/plain": [
       "(579, 3)"
      ]
     },
     "execution_count": 139,
     "metadata": {},
     "output_type": "execute_result"
    }
   ],
   "source": [
    "mask = predictions['y_test']!=predictions['y_pred']\n",
    "misclass = predictions[mask]\n",
    "misclass.shape "
   ]
  },
  {
   "cell_type": "code",
   "execution_count": 140,
   "metadata": {},
   "outputs": [
    {
     "data": {
      "text/html": [
       "<div>\n",
       "<style scoped>\n",
       "    .dataframe tbody tr th:only-of-type {\n",
       "        vertical-align: middle;\n",
       "    }\n",
       "\n",
       "    .dataframe tbody tr th {\n",
       "        vertical-align: top;\n",
       "    }\n",
       "\n",
       "    .dataframe thead th {\n",
       "        text-align: right;\n",
       "    }\n",
       "</style>\n",
       "<table border=\"1\" class=\"dataframe\">\n",
       "  <thead>\n",
       "    <tr style=\"text-align: right;\">\n",
       "      <th></th>\n",
       "      <th>index</th>\n",
       "      <th>y_test</th>\n",
       "      <th>y_pred</th>\n",
       "    </tr>\n",
       "  </thead>\n",
       "  <tbody>\n",
       "    <tr>\n",
       "      <th>9</th>\n",
       "      <td>8664</td>\n",
       "      <td>1</td>\n",
       "      <td>3</td>\n",
       "    </tr>\n",
       "    <tr>\n",
       "      <th>18</th>\n",
       "      <td>11005</td>\n",
       "      <td>2</td>\n",
       "      <td>0</td>\n",
       "    </tr>\n",
       "    <tr>\n",
       "      <th>27</th>\n",
       "      <td>18604</td>\n",
       "      <td>3</td>\n",
       "      <td>1</td>\n",
       "    </tr>\n",
       "    <tr>\n",
       "      <th>41</th>\n",
       "      <td>2473</td>\n",
       "      <td>0</td>\n",
       "      <td>4</td>\n",
       "    </tr>\n",
       "    <tr>\n",
       "      <th>51</th>\n",
       "      <td>7382</td>\n",
       "      <td>1</td>\n",
       "      <td>4</td>\n",
       "    </tr>\n",
       "  </tbody>\n",
       "</table>\n",
       "</div>"
      ],
      "text/plain": [
       "    index  y_test  y_pred\n",
       "9    8664       1       3\n",
       "18  11005       2       0\n",
       "27  18604       3       1\n",
       "41   2473       0       4\n",
       "51   7382       1       4"
      ]
     },
     "execution_count": 140,
     "metadata": {},
     "output_type": "execute_result"
    }
   ],
   "source": [
    "misclass.head()"
   ]
  },
  {
   "cell_type": "markdown",
   "metadata": {},
   "source": [
    "### Create a dataframe of all images that were misclassified "
   ]
  },
  {
   "cell_type": "code",
   "execution_count": 146,
   "metadata": {},
   "outputs": [],
   "source": [
    "X_test_df['index'] = indices_test\n",
    "\n",
    "misclass_df = pd.concat([X_test_df, misclass], axis = 1, join_axes = [misclass['index']])\n",
    "\n",
    "misclass_df.shape"
   ]
  },
  {
   "cell_type": "markdown",
   "metadata": {},
   "source": [
    "The dataframe above is a dataframe containing the data for all images that were misclassified along with their true y values and their predictied y values. "
   ]
  },
  {
   "cell_type": "markdown",
   "metadata": {},
   "source": [
    "### Methods and the Results of Clustering "
   ]
  },
  {
   "cell_type": "markdown",
   "metadata": {},
   "source": [
    "DBScan clustering was first applied to the data which return no meaningful results as the only cluster produced was the noise with cluster label -1. \n",
    "<br/>\n",
    "K-Means clustering was then applied with an arbitrary choice of 2 centroids as this was the simplest to work with. Later more than 2 centroids were chosen but did not lead to any meaningful results. \n",
    "<be/> \n",
    "One of the two clusters from K-means contained a total of only 4 images in it so these images were visually inspected with the following results: \n",
    "![clustered_images](../images/clustered_images.png)"
   ]
  },
  {
   "cell_type": "markdown",
   "metadata": {},
   "source": [
    "The group of images in this cluster show no meaningful pattern therefore the results of clustering were deemed not useful. Another approach was taken to try and make sense of the misclassficiations. This approach was a manual visual inspection of the misclassified images. \n",
    "\n",
    "### What to do differently\n",
    "\n",
    "We might consider clustering not the raw images themselves, but the image outputs from the hidden layers of the neural network. This is because the model might be misclassifying not based on some inherent distinct characteristic of the images themselves, but rather on the way it interprets/misinterprets some features once the image gets processed inside the nueral network. "
   ]
  },
  {
   "cell_type": "markdown",
   "metadata": {},
   "source": [
    "# 5. Manual Visual Inspection of Some Misclassified Images "
   ]
  },
  {
   "cell_type": "markdown",
   "metadata": {},
   "source": [
    "This dataframe **misclass** can bhelp  find the original images numbered the same as the **indices** variable which was later train_test_split along with X and y. Also the dataframe can help determine what the misclassification was by comparing the **y_test** and **y_pred** column values for that image. "
   ]
  },
  {
   "cell_type": "markdown",
   "metadata": {},
   "source": [
    "Looking back at the confusion matrix, I became specifically interested in looking at images that were cat doodles but were misclassified as airplanes especially because the doodles of these categories seem to be very distinct in their shape.But first let's look at a few examples of cat doodles that were correctly classified as cats (true positives):\n",
    "\n",
    "### True Positive Cat Doodles\n",
    "\n",
    "![tps](../images/tp_cats.png)"
   ]
  },
  {
   "cell_type": "markdown",
   "metadata": {},
   "source": [
    "The six individual doodles above were randomly selected from a set of correctly classified cat images. There are noticably two distinct groups of cats that the neural network is correctly recognizing as cats: cat faces (the group of doodles on the left) and cats with their full bodies (the group of doodles on the right). While these are not the only groups of images the model is correctly classifying, these groups however come up most frequently among the true positive cat images. "
   ]
  },
  {
   "cell_type": "markdown",
   "metadata": {},
   "source": [
    "Now let's look at some cat doodles that were misclassified as airplanes and see whether there is any distinct characteristic about these images that sets them apart from the rest.\n",
    "\n",
    "### Cats misclassified as airplanes\n",
    "\n",
    "![cats_misclassified_as_airplanes](../images/cats_misclass_airplanes.png)"
   ]
  },
  {
   "cell_type": "markdown",
   "metadata": {},
   "source": [
    "The above 11 doodles were also randomly selected from a set of cat images which the model incorrectly classified as airplanes. There are two distinct groups of doodle types here as well: cat faces that seem to have a smiley face (the group of images on the left) and cats that have no eyes on their faces (the group of doodles on the right). While these are not the only apparently identifiable groups of cat doodles that were misclassified as airplanes, the two groups presented here are the ones that occur most frequently among such misclassifications. "
   ]
  },
  {
   "cell_type": "markdown",
   "metadata": {},
   "source": [
    "But a question arises: what does a typical airplane doodle look like? And can we understand or intuit why the model has misclassified these cats as airplanes? Perhaps if we look at such a typtical airplane we can understand what features on that airplane the model is confusing with corresponding features on these cat doodles."
   ]
  },
  {
   "cell_type": "markdown",
   "metadata": {},
   "source": [
    "So then, these are some typical airplane doodles: \n",
    "![airplanes](../images/airplanes.png)"
   ]
  },
  {
   "cell_type": "markdown",
   "metadata": {},
   "source": [
    "While there is some variation from doodle to doole, they all however share two distinct characteristics that are apparent to the humand eye: the body of the airplane and a pair of wings. "
   ]
  },
  {
   "cell_type": "markdown",
   "metadata": {},
   "source": [
    "If we were to compare the misclassified cat images to these airplane images, there is really no apparent reaso for why the model is recognizing these misclassified cats as airplanes. Airplane doodles look very different from cat doodles, at least according to my human perception! Let's look at some doodles of trees that were misclassified as airplanes:\n",
    "\n",
    "![trees_misclassified_as_airplanes](../images/trees_misclass_airplanes.png)"
   ]
  },
  {
   "cell_type": "markdown",
   "metadata": {},
   "source": [
    "Again, just by looking at these doodles as a human, It is not clear as to why the model misclassified them as airplanes. \n",
    "\n",
    "### The naive assumption of human-like machine perception\n",
    "\n",
    "\n",
    "But perhaps the assumption that I've made here is naive: that the model will learn to recognize and differentiate visual information like a human does. Actually, it's a well known fact that a machine does not necessarily learn to process information as a human does... we know that it is capable of producing correct results, but how it does it is for the most part unknown - especially with neural netoworks that are very complex and contain many hidden layers. This is commonly what we refere to as the **black box** model: Input goes in, outcput comes out (often correct/good quality output) but we don't know what exactly happened in between input and output. "
   ]
  },
  {
   "cell_type": "markdown",
   "metadata": {},
   "source": [
    "### The slippery slope of thie approach of visually inspecting misclassifications\n",
    "\n",
    "It's hard to tell whether manual visual inspection of misclassified iimages will lead to any meaningful results. It's even harder to determine whether meaningful results (as they may appear to us to be meaningful) are actually correct and not just a result of our own confirmation biases. As researchers, we always hope that we approach the problem free of bias - that we have taken measures to circumvent the tainting of results with our biases. But with problems such as this one we're dealing with here, it's even more difficult to ensure this because there is no clear goal we want to achieve, no expected results we want to see, but merely a blind deep dive into what these misclassifications can tell us and when they do tell us something, it's easy to get lost in chasing what we want this telling to be rather than what it actually is. \n",
    "\n",
    "This is not to say that this approach should not be taken at all, but only that it should be taken with great caution. "
   ]
  },
  {
   "cell_type": "markdown",
   "metadata": {},
   "source": [
    "### So what is the value of this approach then?\n",
    "\n",
    "While the overall doodles of both cats and trees which were misclassified as airplanes did not show any apparent characteristics for why the misclassifications took place, there was something interesting in the results still which may help shed some light into why the model is misclassifying such doodles as we step further into the methods discussed in notebook **3.2. Modeling - An Improved Model and Looking Inside the Hidden Layers**. \n",
    "<br/>\n",
    "What's interesting and is worhtile to investigate further is the emerged two groups of cat doodles among cat misclassifications: the cat faces that had smiley faces and the cat faces that had no eyes as discussed above. While this may be purely a coninicdence, I can't help but take a note of this and ask why or what is it about these groups of cat doodles that the model is mis-recognizing? Why does the model think they are airplanes and not alarm clocks for example?\n",
    "\n",
    "Because the number of misclassifications is not incredibly large (~600), this pattern of misclassified cat doodles certainly is convincing enough to put the effort into looking at every single misclassification and perhaps manually classifying them into different groups as a human - something I tried to do with the clusterinig algorithm which didn't work. This is definitely something I plan to do in the future but not to come up with any conclusions about why the model is misclassifying such doodles, but only to use it as an informative piece of data going futher into inspecting the model's inner workings by visualizing its hidden layer ouptuts. Check out noebtook **3.2. Modeling - An Improved Model and Looking Inside the Hidden Layers** for a more in depth discussion of this. "
   ]
  }
 ],
 "metadata": {
  "kernelspec": {
   "display_name": "Python 3",
   "language": "python",
   "name": "python3"
  },
  "language_info": {
   "codemirror_mode": {
    "name": "ipython",
    "version": 3
   },
   "file_extension": ".py",
   "mimetype": "text/x-python",
   "name": "python",
   "nbconvert_exporter": "python",
   "pygments_lexer": "ipython3",
   "version": "3.7.1"
  }
 },
 "nbformat": 4,
 "nbformat_minor": 2
}
